{
 "cells": [
  {
   "cell_type": "code",
   "execution_count": 120,
   "metadata": {},
   "outputs": [],
   "source": [
    "import pandas as pd"
   ]
  },
  {
   "cell_type": "code",
   "execution_count": 121,
   "metadata": {},
   "outputs": [
    {
     "data": {
      "text/html": [
       "<div>\n",
       "<style scoped>\n",
       "    .dataframe tbody tr th:only-of-type {\n",
       "        vertical-align: middle;\n",
       "    }\n",
       "\n",
       "    .dataframe tbody tr th {\n",
       "        vertical-align: top;\n",
       "    }\n",
       "\n",
       "    .dataframe thead th {\n",
       "        text-align: right;\n",
       "    }\n",
       "</style>\n",
       "<table border=\"1\" class=\"dataframe\">\n",
       "  <thead>\n",
       "    <tr style=\"text-align: right;\">\n",
       "      <th></th>\n",
       "      <th>total_bill</th>\n",
       "      <th>tip</th>\n",
       "      <th>sex</th>\n",
       "      <th>smoker</th>\n",
       "      <th>day</th>\n",
       "      <th>time</th>\n",
       "      <th>size</th>\n",
       "    </tr>\n",
       "  </thead>\n",
       "  <tbody>\n",
       "    <tr>\n",
       "      <th>0</th>\n",
       "      <td>16.99</td>\n",
       "      <td>1.01</td>\n",
       "      <td>Female</td>\n",
       "      <td>No</td>\n",
       "      <td>Sun</td>\n",
       "      <td>Dinner</td>\n",
       "      <td>2</td>\n",
       "    </tr>\n",
       "    <tr>\n",
       "      <th>1</th>\n",
       "      <td>10.34</td>\n",
       "      <td>1.66</td>\n",
       "      <td>Male</td>\n",
       "      <td>No</td>\n",
       "      <td>Sun</td>\n",
       "      <td>Dinner</td>\n",
       "      <td>3</td>\n",
       "    </tr>\n",
       "    <tr>\n",
       "      <th>2</th>\n",
       "      <td>21.01</td>\n",
       "      <td>3.50</td>\n",
       "      <td>Male</td>\n",
       "      <td>No</td>\n",
       "      <td>Sun</td>\n",
       "      <td>Dinner</td>\n",
       "      <td>3</td>\n",
       "    </tr>\n",
       "    <tr>\n",
       "      <th>3</th>\n",
       "      <td>23.68</td>\n",
       "      <td>3.31</td>\n",
       "      <td>Male</td>\n",
       "      <td>No</td>\n",
       "      <td>Sun</td>\n",
       "      <td>Dinner</td>\n",
       "      <td>2</td>\n",
       "    </tr>\n",
       "    <tr>\n",
       "      <th>4</th>\n",
       "      <td>24.59</td>\n",
       "      <td>3.61</td>\n",
       "      <td>Female</td>\n",
       "      <td>No</td>\n",
       "      <td>Sun</td>\n",
       "      <td>Dinner</td>\n",
       "      <td>4</td>\n",
       "    </tr>\n",
       "  </tbody>\n",
       "</table>\n",
       "</div>"
      ],
      "text/plain": [
       "   total_bill   tip     sex smoker  day    time  size\n",
       "0       16.99  1.01  Female     No  Sun  Dinner     2\n",
       "1       10.34  1.66    Male     No  Sun  Dinner     3\n",
       "2       21.01  3.50    Male     No  Sun  Dinner     3\n",
       "3       23.68  3.31    Male     No  Sun  Dinner     2\n",
       "4       24.59  3.61  Female     No  Sun  Dinner     4"
      ]
     },
     "execution_count": 121,
     "metadata": {},
     "output_type": "execute_result"
    }
   ],
   "source": [
    "tips = pd.read_csv('http://meusite.mackenzie.br/rogerio/data_load/tips.csv')\n",
    "tips.head()"
   ]
  },
  {
   "cell_type": "code",
   "execution_count": 122,
   "metadata": {},
   "outputs": [
    {
     "name": "stdout",
     "output_type": "stream",
     "text": [
      "Considere nossa base exemplo Tips. Considerando somente os finais de semana, quem tem média de participantes na mesa maior, fumantes ou não fumantes?\n",
      "\n",
      "Média de fumantes por mesa nos finais de semana: 2.58\n",
      "Média de não fumantes por mesa nos finais de semana: 2.93\n"
     ]
    }
   ],
   "source": [
    "# Considere nossa base exemplo Tips. Considerando somente os finais de semana, quem tem média de participantes na mesa maior, fumantes ou não fumantes?\n",
    "print(\"Considere nossa base exemplo Tips. Considerando somente os finais de semana, quem tem média de participantes na mesa maior, fumantes ou não fumantes?\\n\")\n",
    "\n",
    "media_fumantes_final_semana = tips.query(\"(day == 'Sun' or day == 'Mon') and (smoker == 'Yes')\")['size'].mean()\n",
    "media_nao_fumantes_final_semana = tips.query(\"(day == 'Sun' or day == 'Mon') and (smoker == 'No')\")['size'].mean()\n",
    "\n",
    "print(f\"Média de fumantes por mesa nos finais de semana: {round(media_fumantes_final_semana,2)}\")\n",
    "print(f\"Média de não fumantes por mesa nos finais de semana: {round(media_nao_fumantes_final_semana,2)}\")"
   ]
  },
  {
   "cell_type": "code",
   "execution_count": 123,
   "metadata": {},
   "outputs": [
    {
     "data": {
      "text/html": [
       "<div>\n",
       "<style scoped>\n",
       "    .dataframe tbody tr th:only-of-type {\n",
       "        vertical-align: middle;\n",
       "    }\n",
       "\n",
       "    .dataframe tbody tr th {\n",
       "        vertical-align: top;\n",
       "    }\n",
       "\n",
       "    .dataframe thead th {\n",
       "        text-align: right;\n",
       "    }\n",
       "</style>\n",
       "<table border=\"1\" class=\"dataframe\">\n",
       "  <thead>\n",
       "    <tr style=\"text-align: right;\">\n",
       "      <th></th>\n",
       "      <th>age</th>\n",
       "      <th>sex</th>\n",
       "      <th>bmi</th>\n",
       "      <th>children</th>\n",
       "      <th>smoker</th>\n",
       "      <th>region</th>\n",
       "      <th>charges</th>\n",
       "    </tr>\n",
       "  </thead>\n",
       "  <tbody>\n",
       "    <tr>\n",
       "      <th>0</th>\n",
       "      <td>19</td>\n",
       "      <td>female</td>\n",
       "      <td>27.900</td>\n",
       "      <td>0</td>\n",
       "      <td>yes</td>\n",
       "      <td>southwest</td>\n",
       "      <td>16884.92400</td>\n",
       "    </tr>\n",
       "    <tr>\n",
       "      <th>1</th>\n",
       "      <td>18</td>\n",
       "      <td>male</td>\n",
       "      <td>33.770</td>\n",
       "      <td>1</td>\n",
       "      <td>no</td>\n",
       "      <td>southeast</td>\n",
       "      <td>1725.55230</td>\n",
       "    </tr>\n",
       "    <tr>\n",
       "      <th>2</th>\n",
       "      <td>28</td>\n",
       "      <td>male</td>\n",
       "      <td>33.000</td>\n",
       "      <td>3</td>\n",
       "      <td>no</td>\n",
       "      <td>southeast</td>\n",
       "      <td>4449.46200</td>\n",
       "    </tr>\n",
       "    <tr>\n",
       "      <th>3</th>\n",
       "      <td>33</td>\n",
       "      <td>male</td>\n",
       "      <td>22.705</td>\n",
       "      <td>0</td>\n",
       "      <td>no</td>\n",
       "      <td>northwest</td>\n",
       "      <td>21984.47061</td>\n",
       "    </tr>\n",
       "    <tr>\n",
       "      <th>4</th>\n",
       "      <td>32</td>\n",
       "      <td>male</td>\n",
       "      <td>28.880</td>\n",
       "      <td>0</td>\n",
       "      <td>no</td>\n",
       "      <td>northwest</td>\n",
       "      <td>3866.85520</td>\n",
       "    </tr>\n",
       "  </tbody>\n",
       "</table>\n",
       "</div>"
      ],
      "text/plain": [
       "   age     sex     bmi  children smoker     region      charges\n",
       "0   19  female  27.900         0    yes  southwest  16884.92400\n",
       "1   18    male  33.770         1     no  southeast   1725.55230\n",
       "2   28    male  33.000         3     no  southeast   4449.46200\n",
       "3   33    male  22.705         0     no  northwest  21984.47061\n",
       "4   32    male  28.880         0     no  northwest   3866.85520"
      ]
     },
     "execution_count": 123,
     "metadata": {},
     "output_type": "execute_result"
    }
   ],
   "source": [
    "insurance = pd.read_csv('http://meusite.mackenzie.br/rogerio/data_load/insurance.csv')\n",
    "insurance.head()"
   ]
  },
  {
   "cell_type": "code",
   "execution_count": 124,
   "metadata": {},
   "outputs": [
    {
     "name": "stdout",
     "output_type": "stream",
     "text": [
      "Qual percentual de homens e mulheres assegurados na base?\n",
      "\n",
      "Percentual de homens assegurados na base: 0.51\n",
      "Percentual de mulheres asseguradas na base: 0.49\n"
     ]
    }
   ],
   "source": [
    "# Qual percentual de homens e mulheres assegurados na base?\n",
    "print(\"Qual percentual de homens e mulheres assegurados na base?\\n\")\n",
    "\n",
    "numero_de_registros = insurance['sex'].count()\n",
    "numero_de_homens = insurance.query(\"sex == 'male'\").count()\n",
    "numero_de_mulheres = insurance.query(\"sex == 'female'\").count()\n",
    "percentual_de_homens = numero_de_homens / numero_de_registros\n",
    "percentual_de_mulheres = numero_de_mulheres / numero_de_registros\n",
    "\n",
    "print(f\"Percentual de homens assegurados na base: {round(percentual_de_homens[0],2)}\")\n",
    "print(f\"Percentual de mulheres asseguradas na base: {round(percentual_de_mulheres[0],2)}\")"
   ]
  },
  {
   "cell_type": "code",
   "execution_count": 135,
   "metadata": {},
   "outputs": [
    {
     "name": "stdout",
     "output_type": "stream",
     "text": [
      "Qual o total dos valores de seguro pago por homens e mulheres segurados na base?\n",
      "\n",
      "Valor total dos seguros realizados por homens: 9434763.8\n",
      "Valor total dos seguros realizados por mulheres: 8321061.19\n"
     ]
    }
   ],
   "source": [
    "# Qual o total dos valores de seguro pago por homens e mulheres segurados na base?\n",
    "print(\"Qual o total dos valores de seguro pago por homens e mulheres segurados na base?\\n\")\n",
    "\n",
    "valor_total_seguros_homens = insurance.query(\"sex == 'male'\")['charges'].sum()\n",
    "valor_total_seguros_mulheres = insurance.query(\"sex == 'female'\")['charges'].sum()\n",
    "\n",
    "print(f\"Valor total dos seguros realizados por homens: {round(valor_total_seguros_homens,2)}\")\n",
    "print(f\"Valor total dos seguros realizados por mulheres: {round(valor_total_seguros_mulheres,2)}\")"
   ]
  },
  {
   "cell_type": "code",
   "execution_count": 137,
   "metadata": {},
   "outputs": [
    {
     "name": "stdout",
     "output_type": "stream",
     "text": [
      "Qual o percentual de valor de seguros pagos por homens e mulheres segurados na base?\n",
      "\n",
      "Percentual de valor de seguros pagos por homens: 0.53\n",
      "Percentual de valor de seguros pagos por mulheres: 0.47\n"
     ]
    }
   ],
   "source": [
    "# Qual o percentual de valor de seguros pagos por homens e mulheres segurados na base?\n",
    "print(\"Qual o percentual de valor de seguros pagos por homens e mulheres segurados na base?\\n\")\n",
    "\n",
    "valor_total_seguros = insurance['charges'].sum()\n",
    "percentual_valor_seguros_homens = valor_total_seguros_homens / valor_total_seguros\n",
    "percentual_valor_seguros_mulheres = valor_total_seguros_mulheres / valor_total_seguros\n",
    "\n",
    "print(f\"Percentual de valor de seguros pagos por homens: {round(percentual_valor_seguros_homens,2)}\")\n",
    "print(f\"Percentual de valor de seguros pagos por mulheres: {round(percentual_valor_seguros_mulheres,2)}\")"
   ]
  },
  {
   "cell_type": "code",
   "execution_count": 127,
   "metadata": {},
   "outputs": [
    {
     "name": "stdout",
     "output_type": "stream",
     "text": [
      "Não fumantes apresentam em média mais filhos?\n",
      "Número médio de filhos de pessoas fumantes 1.11\n",
      "Número médio de filhos de pessoas não fumantes 1.09\n"
     ]
    }
   ],
   "source": [
    "# Não fumantes apresentam em média mais filhos?\n",
    "print(\"Não fumantes apresentam em média mais filhos?\")\n",
    "\n",
    "media_filhos_pessoas_fumantes = insurance.query(\"smoker == 'yes'\")['children'].mean()\n",
    "media_filhos_pessoas_nao_fumantes = insurance.query(\"smoker == 'no'\")['children'].mean()\n",
    "\n",
    "print(f\"Número médio de filhos de pessoas fumantes {round(media_filhos_pessoas_fumantes,2)}\")\n",
    "print(f\"Número médio de filhos de pessoas não fumantes {round(media_filhos_pessoas_nao_fumantes,2)}\")"
   ]
  },
  {
   "cell_type": "code",
   "execution_count": 128,
   "metadata": {},
   "outputs": [
    {
     "name": "stdout",
     "output_type": "stream",
     "text": [
      "Qual a média e maior de idade dentre os segurados homens, das regiões northwest ou northeast?\n",
      "\n",
      "Idade média dos homens de northwest ou northeast: 38.85\n",
      "Idade máxima dos homens de northwest ou northeast: 64\n"
     ]
    }
   ],
   "source": [
    "# Qual a média e maior de idade dentre os segurados homens, das regiões northwest ou northeast?\n",
    "print(\"Qual a média e maior de idade dentre os segurados homens, das regiões northwest ou northeast?\\n\")\n",
    "\n",
    "media_idade_homens_northwest_northeast = insurance.query(\"sex == 'male' and (region == 'northwest' or region == 'northeast')\")['age'].mean()\n",
    "maior_idade_homens_northwest_northeast = insurance.query(\"sex == 'male' and (region == 'northwest' or region == 'northeast')\")['age'].max()\n",
    "\n",
    "print(f\"Idade média dos homens de northwest ou northeast: {round(media_idade_homens_northwest_northeast,2)}\")\n",
    "print(f\"Idade máxima dos homens de northwest ou northeast: {round(maior_idade_homens_northwest_northeast,2)}\")"
   ]
  },
  {
   "cell_type": "code",
   "execution_count": 129,
   "metadata": {},
   "outputs": [
    {
     "data": {
      "text/html": [
       "<div>\n",
       "<style scoped>\n",
       "    .dataframe tbody tr th:only-of-type {\n",
       "        vertical-align: middle;\n",
       "    }\n",
       "\n",
       "    .dataframe tbody tr th {\n",
       "        vertical-align: top;\n",
       "    }\n",
       "\n",
       "    .dataframe thead th {\n",
       "        text-align: right;\n",
       "    }\n",
       "</style>\n",
       "<table border=\"1\" class=\"dataframe\">\n",
       "  <thead>\n",
       "    <tr style=\"text-align: right;\">\n",
       "      <th></th>\n",
       "      <th>country</th>\n",
       "      <th>country_name</th>\n",
       "      <th>type</th>\n",
       "      <th>level</th>\n",
       "      <th>2016</th>\n",
       "      <th>2017</th>\n",
       "      <th>2018</th>\n",
       "    </tr>\n",
       "  </thead>\n",
       "  <tbody>\n",
       "    <tr>\n",
       "      <th>0</th>\n",
       "      <td>BE</td>\n",
       "      <td>Belgium</td>\n",
       "      <td>Conventional thermal</td>\n",
       "      <td>Level 1</td>\n",
       "      <td>30728.0</td>\n",
       "      <td>31316.0</td>\n",
       "      <td>30092.635</td>\n",
       "    </tr>\n",
       "    <tr>\n",
       "      <th>1</th>\n",
       "      <td>BE</td>\n",
       "      <td>Belgium</td>\n",
       "      <td>Nuclear</td>\n",
       "      <td>Level 1</td>\n",
       "      <td>41430.0</td>\n",
       "      <td>40128.5</td>\n",
       "      <td>26995.628</td>\n",
       "    </tr>\n",
       "    <tr>\n",
       "      <th>2</th>\n",
       "      <td>BE</td>\n",
       "      <td>Belgium</td>\n",
       "      <td>Hydro</td>\n",
       "      <td>Level 1</td>\n",
       "      <td>1476.0</td>\n",
       "      <td>1360.9</td>\n",
       "      <td>1239.248</td>\n",
       "    </tr>\n",
       "    <tr>\n",
       "      <th>3</th>\n",
       "      <td>BE</td>\n",
       "      <td>Belgium</td>\n",
       "      <td>Pumped hydro power</td>\n",
       "      <td>Level 2</td>\n",
       "      <td>1110.0</td>\n",
       "      <td>1093.2</td>\n",
       "      <td>983.190</td>\n",
       "    </tr>\n",
       "    <tr>\n",
       "      <th>4</th>\n",
       "      <td>BE</td>\n",
       "      <td>Belgium</td>\n",
       "      <td>Wind</td>\n",
       "      <td>Level 1</td>\n",
       "      <td>5340.0</td>\n",
       "      <td>6387.9</td>\n",
       "      <td>7177.346</td>\n",
       "    </tr>\n",
       "  </tbody>\n",
       "</table>\n",
       "</div>"
      ],
      "text/plain": [
       "  country country_name                  type    level     2016     2017  \\\n",
       "0      BE      Belgium  Conventional thermal  Level 1  30728.0  31316.0   \n",
       "1      BE      Belgium               Nuclear  Level 1  41430.0  40128.5   \n",
       "2      BE      Belgium                 Hydro  Level 1   1476.0   1360.9   \n",
       "3      BE      Belgium    Pumped hydro power  Level 2   1110.0   1093.2   \n",
       "4      BE      Belgium                  Wind  Level 1   5340.0   6387.9   \n",
       "\n",
       "        2018  \n",
       "0  30092.635  \n",
       "1  26995.628  \n",
       "2   1239.248  \n",
       "3    983.190  \n",
       "4   7177.346  "
      ]
     },
     "execution_count": 129,
     "metadata": {},
     "output_type": "execute_result"
    }
   ],
   "source": [
    "energy = pd.read_csv('https://raw.githubusercontent.com/rfordatascience/tidytuesday/master/data/2020/2020-08-04/energy_types.csv') \n",
    "energy.head()"
   ]
  },
  {
   "cell_type": "code",
   "execution_count": 130,
   "metadata": {},
   "outputs": [
    {
     "name": "stdout",
     "output_type": "stream",
     "text": [
      "Quantos tipos de energia e países diferentes há na base?\n",
      "\n",
      "Número de tipos de energia diferentes: 8\n",
      "Número de países diferentes: 37\n"
     ]
    }
   ],
   "source": [
    "# Quantos tipos de energia e países diferentes há na base?\n",
    "print(\"Quantos tipos de energia e países diferentes há na base?\\n\")\n",
    "\n",
    "numero_tipos_energia_diferentes = len(energy['type'].unique())\n",
    "numero_paises_diferentes = len(energy['country'].unique())\n",
    "\n",
    "print(f\"Número de tipos de energia diferentes: {numero_tipos_energia_diferentes}\")\n",
    "print(f\"Número de países diferentes: {numero_paises_diferentes}\")"
   ]
  },
  {
   "cell_type": "code",
   "execution_count": 139,
   "metadata": {},
   "outputs": [
    {
     "name": "stdout",
     "output_type": "stream",
     "text": [
      "Qual o percentual de energia nuclear produzido na Europa no ano de 2018?\n",
      "\n",
      "Energia total produzida na Europa em 2018: 3787674.63\n",
      "Energia núclear total produzida na Europa em 2018: 868333.98\n",
      "Percentual de energia núclear produzida na Europa em 2018: 0.23\n"
     ]
    }
   ],
   "source": [
    "# Qual o percentual de energia nuclear produzido na Europa no ano de 2018?\n",
    "print(\"Qual o percentual de energia nuclear produzido na Europa no ano de 2018?\\n\")\n",
    "\n",
    "total_energia_europa_2018 = energy['2018'].sum()\n",
    "total_energia_nuclear_europa_2018 = energy.query(\"type == 'Nuclear'\")['2018'].sum()\n",
    "percentual_energia_nuclear_europa_2018 = total_energia_nuclear_europa_2018 / total_energia_europa_2018\n",
    "\n",
    "print(f\"Energia total produzida na Europa em 2018: {round(total_energia_europa_2018,2)}\")\n",
    "print(f\"Energia núclear total produzida na Europa em 2018: {round(total_energia_nuclear_europa_2018,2)}\")\n",
    "print(f\"Percentual de energia núclear produzida na Europa em 2018: {round(percentual_energia_nuclear_europa_2018,2)}\")"
   ]
  },
  {
   "cell_type": "code",
   "execution_count": 132,
   "metadata": {},
   "outputs": [
    {
     "name": "stdout",
     "output_type": "stream",
     "text": [
      "Qual o percentual de energia nuclear produzido na França no ano de 2018?\n",
      "\n",
      "Energia total produzida na França em 2018: 560767.87\n",
      "Energia núclear total produzida na França em 2018: 393153.25\n",
      "Percentual de energia núclear produzida na França em 2018: 0.7\n"
     ]
    }
   ],
   "source": [
    "# Qual o percentual de energia nuclear produzido na França no ano de 2018?\n",
    "print(\"Qual o percentual de energia nuclear produzido na França no ano de 2018?\\n\")\n",
    "\n",
    "total_energia_franca_2018 = energy.query(\"country_name == 'France'\")['2018'].sum()\n",
    "total_energia_nuclear_franca_2018 = energy.query(\"type == 'Nuclear' and country_name == 'France'\")['2018'].sum()\n",
    "percentual_energia_nuclear_franca_2018 = total_energia_nuclear_franca_2018 / total_energia_franca_2018\n",
    "\n",
    "print(f\"Energia total produzida na França em 2018: {round(total_energia_franca_2018,2)}\")\n",
    "print(f\"Energia núclear total produzida na França em 2018: {round(total_energia_nuclear_franca_2018,2)}\")\n",
    "print(f\"Percentual de energia núclear produzida na França em 2018: {round(percentual_energia_nuclear_franca_2018,2)}\")\n",
    "\n"
   ]
  },
  {
   "cell_type": "code",
   "execution_count": 133,
   "metadata": {},
   "outputs": [
    {
     "name": "stdout",
     "output_type": "stream",
     "text": [
      "Qual o percentual de energias limpas produzida na Europa no ano de 2018?\n",
      "\n",
      "Energia total produzida na Europa em 2018: 3787674.63\n",
      "Energia limpa total produzida na Europa em 2018: 1156738.16\n",
      "Percentual de energia limpa produzida na Europa em 2018: 0.31\n"
     ]
    }
   ],
   "source": [
    "# Qual o percentual de energias limpas produzida na Europa no ano de 2018?\n",
    "print(\"Qual o percentual de energias limpas produzida na Europa no ano de 2018?\\n\")\n",
    "\n",
    "total_energia_europa_2018 = energy['2018'].sum()\n",
    "total_energia_limpa_europa_2018 = energy.query(\"type == 'Hydro' or type == 'Wind' or type == 'Solar' or type == 'Geothermal'\")['2018'].sum()\n",
    "percentual_energia_limpa_europa_2018 = total_energia_limpa_europa_2018 / total_energia_europa_2018\n",
    "\n",
    "print(f\"Energia total produzida na Europa em 2018: {round(total_energia_europa_2018,2)}\")\n",
    "print(f\"Energia limpa total produzida na Europa em 2018: {round(total_energia_limpa_europa_2018,2)}\")\n",
    "print(f\"Percentual de energia limpa produzida na Europa em 2018: {round(percentual_energia_limpa_europa_2018,2)}\")"
   ]
  },
  {
   "cell_type": "code",
   "execution_count": 134,
   "metadata": {},
   "outputs": [
    {
     "name": "stdout",
     "output_type": "stream",
     "text": [
      "Considerando os anos de 2016, 2017 e 2018, a produção de energias limpas tem aumentado na Europa? Verifique em termos absolutos e percentuais.\n",
      "\n",
      "Energia total produzida na Europa em 2016: 3783874.981\n",
      "Energia limpa total produzida na Europa em 2016: 1072303.537\n",
      "Percentual de energia limpa produzida na Europa em 2016: 0.28339\n",
      "\n",
      "Energia total produzida na Europa em 2017: 3821643.552\n",
      "Energia limpa total produzida na Europa em 2017: 1077515.942\n",
      "Percentual de energia limpa produzida na Europa em 2017: 0.28195\n",
      "\n",
      "Energia total produzida na Europa em 2018: 3787674.63\n",
      "Energia limpa total produzida na Europa em 2018: 1156738.155\n",
      "Percentual de energia limpa produzida na Europa em 2018: 0.3054\n",
      "\n",
      "True\n",
      "False\n"
     ]
    }
   ],
   "source": [
    "# Considerando os anos de 2016, 2017 e 2018, a produção de energias limpas tem aumentado na Europa? Verifique em termos absolutos e percentuais.\n",
    "print(\"Considerando os anos de 2016, 2017 e 2018, a produção de energias limpas tem aumentado na Europa? Verifique em termos absolutos e percentuais.\\n\")\n",
    "\n",
    "total_energia_europa_2016 = energy['2016'].sum()\n",
    "total_energia_europa_2017 = energy['2017'].sum()\n",
    "total_energia_europa_2018 = energy['2018'].sum()\n",
    "\n",
    "total_energia_limpa_europa_2016 = energy.query(\"type == 'Hydro' or type == 'Wind' or type == 'Solar' or type == 'Geothermal'\")['2016'].sum()\n",
    "total_energia_limpa_europa_2017 = energy.query(\"type == 'Hydro' or type == 'Wind' or type == 'Solar' or type == 'Geothermal'\")['2017'].sum()\n",
    "total_energia_limpa_europa_2018 = energy.query(\"type == 'Hydro' or type == 'Wind' or type == 'Solar' or type == 'Geothermal'\")['2018'].sum()\n",
    "\n",
    "percentual_energia_limpa_europa_2016 = total_energia_limpa_europa_2016 / total_energia_europa_2016\n",
    "percentual_energia_limpa_europa_2017 = total_energia_limpa_europa_2017 / total_energia_europa_2017\n",
    "percentual_energia_limpa_europa_2018 = total_energia_limpa_europa_2018 / total_energia_europa_2018\n",
    "\n",
    "print(f\"Energia total produzida na Europa em 2016: {round(total_energia_europa_2016,5)}\")\n",
    "print(f\"Energia limpa total produzida na Europa em 2016: {round(total_energia_limpa_europa_2016,5)}\")\n",
    "print(f\"Percentual de energia limpa produzida na Europa em 2016: {round(percentual_energia_limpa_europa_2016,5)}\\n\")\n",
    "\n",
    "print(f\"Energia total produzida na Europa em 2017: {round(total_energia_europa_2017,5)}\")\n",
    "print(f\"Energia limpa total produzida na Europa em 2017: {round(total_energia_limpa_europa_2017,5)}\")\n",
    "print(f\"Percentual de energia limpa produzida na Europa em 2017: {round(percentual_energia_limpa_europa_2017,5)}\\n\")\n",
    "\n",
    "print(f\"Energia total produzida na Europa em 2018: {round(total_energia_europa_2018,5)}\")\n",
    "print(f\"Energia limpa total produzida na Europa em 2018: {round(total_energia_limpa_europa_2018,5)}\")\n",
    "print(f\"Percentual de energia limpa produzida na Europa em 2018: {round(percentual_energia_limpa_europa_2018,5)}\\n\")\n",
    "\n",
    "print(total_energia_limpa_europa_2017 > total_energia_limpa_europa_2016 and total_energia_limpa_europa_2018 > total_energia_limpa_europa_2017)\n",
    "print(percentual_energia_limpa_europa_2017 > percentual_energia_limpa_europa_2016 and percentual_energia_limpa_europa_2018 > percentual_energia_limpa_europa_2017)"
   ]
  }
 ],
 "metadata": {
  "kernelspec": {
   "display_name": "Python 3",
   "language": "python",
   "name": "python3"
  },
  "language_info": {
   "codemirror_mode": {
    "name": "ipython",
    "version": 3
   },
   "file_extension": ".py",
   "mimetype": "text/x-python",
   "name": "python",
   "nbconvert_exporter": "python",
   "pygments_lexer": "ipython3",
   "version": "3.10.6"
  },
  "orig_nbformat": 4
 },
 "nbformat": 4,
 "nbformat_minor": 2
}
