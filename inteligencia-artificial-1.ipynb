{
  "nbformat": 4,
  "nbformat_minor": 0,
  "metadata": {
    "kernelspec": {
      "display_name": "Python 3",
      "language": "python",
      "name": "python3"
    },
    "language_info": {
      "codemirror_mode": {
        "name": "ipython",
        "version": 3
      },
      "file_extension": ".py",
      "mimetype": "text/x-python",
      "name": "python",
      "nbconvert_exporter": "python",
      "pygments_lexer": "ipython3",
      "version": "3.7.4"
    },
    "colab": {
      "provenance": []
    }
  },
  "cells": [
    {
      "cell_type": "markdown",
      "metadata": {
        "id": "bqXGIpvwnhQi"
      },
      "source": [
        "<head>\n",
        "  <meta name=\"author\" content=\"Rogério de Oliveira\">\n",
        "  <meta institution=\"author\" content=\"Universidade Presbiteriana Mackenzie\">\n",
        "</head>\n",
        "\n",
        "<img src=\"http://meusite.mackenzie.br/rogerio/mackenzie_logo/UPM.2_horizontal_vermelho.jpg\" width=300, align=\"right\"> \n",
        "<!-- <h1 align=left><font size = 6, style=\"color:rgb(200,0,0)\"> optional title </font></h1> -->\n"
      ]
    },
    {
      "cell_type": "markdown",
      "metadata": {
        "id": "KL4z4PmunhQj"
      },
      "source": [
        "---"
      ]
    },
    {
      "cell_type": "markdown",
      "metadata": {
        "id": "hfdXvfJjZp4y"
      },
      "source": [
        "# Exercícios"
      ]
    },
    {
      "cell_type": "markdown",
      "metadata": {
        "id": "k0HzcIvWZ6Vp"
      },
      "source": [
        "## Exercício: **CASE Insurance** \n",
        "\n",
        "Acesse a base de dados http://meusite.mackenzie.br/rogerio/data_load/insurance.csv para as questões a seguir."
      ]
    },
    {
      "cell_type": "code",
      "source": [
        "# Importando as bibliotecas\n",
        "import pandas as pd\n",
        "import numpy as np\n",
        "import matplotlib.pyplot as plt\n",
        "\n",
        "# Importando a base de dados\n",
        "data = pd.read_csv(\"insurance.csv\")\n",
        "print(f\"Resumo da base \\n {data.head(5)}\\n\\n\")"
      ],
      "metadata": {
        "colab": {
          "base_uri": "https://localhost:8080/"
        },
        "id": "uiVHWuL7Rytj",
        "outputId": "42497981-abe2-4e0c-eace-c378b70b08b1"
      },
      "execution_count": null,
      "outputs": [
        {
          "output_type": "stream",
          "name": "stdout",
          "text": [
            "Resumo da base \n",
            "    age     sex     bmi  children smoker     region      charges\n",
            "0   19  female  27.900         0    yes  southwest  16884.92400\n",
            "1   18    male  33.770         1     no  southeast   1725.55230\n",
            "2   28    male  33.000         3     no  southeast   4449.46200\n",
            "3   33    male  22.705         0     no  northwest  21984.47061\n",
            "4   32    male  28.880         0     no  northwest   3866.85520\n",
            "\n",
            "\n"
          ]
        }
      ]
    },
    {
      "cell_type": "markdown",
      "metadata": {
        "id": "1M0SwWQ-bH7M"
      },
      "source": [
        "## Q1. Acesse os dados explore a estrutura básica dos dados de `insurance`.\n",
        "\n",
        "> * Qual o número de caso de seguro? \n",
        "> * Quantos atributos são numéricos? \n",
        "> * Há quantos valores diferentes para região? \n",
        "> * Qual a maior quantidade de filhos? "
      ]
    },
    {
      "cell_type": "code",
      "source": [
        "# Qual o número de caso de seguro? \n",
        "casos_de_seguros = data.shape[0]\n",
        "print(f\"Qual o número de caso de seguro?\")\n",
        "print(f\"O número de casos de seguro é {casos_de_seguros}\\n\\n\")\n",
        "\n",
        "# Quantos atributos são numéricos?\n",
        "atributos_numericos = data.dtypes\n",
        "print(f\"Quantos atributos são numéricos?\")\n",
        "print(f\"O número de atributos numéricos é 4\\n{atributos_numericos}\\n\\n\")\n",
        "\n",
        "# Há quantos valores diferentes para região?\n",
        "northeast_valores_diferentes = data.query(\"region == 'northeast'\").shape[0]\n",
        "print(f\"Há quantos valores diferentes para região northeast?\")\n",
        "print(f\"O numéro de valores diferentes para região northeast é {northeast_valores_diferentes}\\n\\n\")\n",
        "\n",
        "# Qual a maior quantidade de filhos? \n",
        "maior_qtd_filhos = data['children'].max()\n",
        "print(f\"Qual a maior quantidade de filhos?\")\n",
        "print(f\"A maior quantidade de filhos é {maior_qtd_filhos}\\n\\n\")"
      ],
      "metadata": {
        "id": "1-NWUBce7_tq",
        "outputId": "76fc057b-934b-4faa-9f2b-ee9578c1e1d1",
        "colab": {
          "base_uri": "https://localhost:8080/"
        }
      },
      "execution_count": null,
      "outputs": [
        {
          "output_type": "stream",
          "name": "stdout",
          "text": [
            "Qual o número de caso de seguro?\n",
            "O número de casos de seguro é 1338\n",
            "\n",
            "\n",
            "Quantos atributos são numéricos?\n",
            "O número de atributos numéricos é 4\n",
            "age           int64\n",
            "sex          object\n",
            "bmi         float64\n",
            "children      int64\n",
            "smoker       object\n",
            "region       object\n",
            "charges     float64\n",
            "dtype: object\n",
            "\n",
            "\n",
            "Há quantos valores diferentes para região northeast?\n",
            "O numéro de valores diferentes para região northeast é 324\n",
            "\n",
            "\n",
            "Qual a maior quantidade de filhos?\n",
            "A maior quantidade de filhos é 5\n",
            "\n",
            "\n"
          ]
        }
      ]
    },
    {
      "cell_type": "markdown",
      "metadata": {
        "id": "dgzrRcDUcOXo"
      },
      "source": [
        "## Q2. Qual a quantidade de casos por região?"
      ]
    },
    {
      "cell_type": "code",
      "source": [
        "# Qual a quantidade de casos por região?\n",
        "qtd_casos_regiao = data.groupby(['region']).count()\n",
        "print(f\"Qual a quantidade de casos por região?\")\n",
        "print(f\"A quantidade de casos por região é igual a {qtd_casos_regiao}\")"
      ],
      "metadata": {
        "id": "4if7Mq-OR8YH",
        "colab": {
          "base_uri": "https://localhost:8080/"
        },
        "outputId": "ccb6d249-3462-4048-8818-ce04a6ea8146"
      },
      "execution_count": null,
      "outputs": [
        {
          "output_type": "stream",
          "name": "stdout",
          "text": [
            "Qual a quantidade de casos por região?\n",
            "A quantidade de casos por região é igual a            age  sex  bmi  children  smoker  charges\n",
            "region                                             \n",
            "northeast  324  324  324       324     324      324\n",
            "northwest  325  325  325       325     325      325\n",
            "southeast  364  364  364       364     364      364\n",
            "southwest  325  325  325       325     325      325\n"
          ]
        }
      ]
    },
    {
      "cell_type": "markdown",
      "metadata": {
        "id": "QQxhcHxLd0eE"
      },
      "source": [
        "## Q3. Qual a média dos pagamentos (charges) efetuados?"
      ]
    },
    {
      "cell_type": "code",
      "source": [
        "# Qual a média dos pagamentos (charges) efetuados?\n",
        "media_pgto_efetuado = data['charges'].mean()\n",
        "print(f\"Qual a média dos pagamentos (charges) efetuados?\")\n",
        "print(f\"A média dos pagamentos efetuados é {media_pgto_efetuado}\\n\\n\")"
      ],
      "metadata": {
        "id": "c6vP6eyvSLbK",
        "colab": {
          "base_uri": "https://localhost:8080/"
        },
        "outputId": "2c2729d0-cdaa-445c-ca45-bcf5a129ece4"
      },
      "execution_count": null,
      "outputs": [
        {
          "output_type": "stream",
          "name": "stdout",
          "text": [
            "Qual a média dos pagamentos (charges) efetuados?\n",
            "A média dos pagamentos efetuados é 13270.422265141257\n",
            "\n",
            "\n"
          ]
        }
      ]
    },
    {
      "cell_type": "markdown",
      "metadata": {
        "id": "C8u7kGA1eCIn"
      },
      "source": [
        "## Q4. Qual a média dos pagamentos (charges) dos 10 maiores pagamentos efetuados?"
      ]
    },
    {
      "cell_type": "code",
      "source": [
        "# Qual a média dos pagamentos (charges) dos 10 maiores pagamentos efetuados?\n",
        "top_dez_media_pgto_efetuado = data.nlargest(10, 'charges')['charges'].mean()\n",
        "print(f\"Qual a média dos pagamentos (charges) dos 10 maiores pagamentos efetuados?\")\n",
        "print(f\"A média dos dez maiores pagamentos efetuados é {top_dez_media_pgto_efetuado}\\n\\n\")"
      ],
      "metadata": {
        "id": "Y7_aN05XSOxJ",
        "colab": {
          "base_uri": "https://localhost:8080/"
        },
        "outputId": "6eabfe1d-aae5-4341-b1ba-631cdbd5a267"
      },
      "execution_count": null,
      "outputs": [
        {
          "output_type": "stream",
          "name": "stdout",
          "text": [
            "Qual a média dos pagamentos (charges) dos 10 maiores pagamentos efetuados?\n",
            "A média dos dez maiores pagamentos efetuados é 55130.961078\n",
            "\n",
            "\n"
          ]
        }
      ]
    },
    {
      "cell_type": "markdown",
      "metadata": {
        "id": "vJiFmcL7fCdt"
      },
      "source": [
        "## Q5. Calcule a distância interquartis dos pagamentos.\n",
        "\n",
        "**Dica** IQR = Q3 - Q1\n",
        "\n"
      ]
    },
    {
      "cell_type": "code",
      "source": [
        "# Calcule a distância interquartis dos pagamentos:\n",
        "q3 = np.quantile(data['charges'], 0.75)\n",
        "q1 = np.quantile(data['charges'], 0.25)\n",
        "distancia_interquartis = q3 - q1\n",
        "print(f\"Calcule a distância interquartis dos pagamentos.\")\n",
        "print(f\"A distância interquartis (AIQ = Q3 - Q1) é {distancia_interquartis}\\n\\n\")"
      ],
      "metadata": {
        "id": "dvNGFd15SWtQ",
        "colab": {
          "base_uri": "https://localhost:8080/"
        },
        "outputId": "5f8cf728-0b8d-47fa-d342-caf001dddf3c"
      },
      "execution_count": null,
      "outputs": [
        {
          "output_type": "stream",
          "name": "stdout",
          "text": [
            "Calcule a distância interquartis dos pagamentos.\n",
            "A distância interquartis (AIQ = Q3 - Q1) é 11899.625365\n",
            "\n",
            "\n"
          ]
        }
      ]
    },
    {
      "cell_type": "markdown",
      "metadata": {
        "id": "Mjn6AADVfpUf"
      },
      "source": [
        "## Q6. Empregue o valor IQR da questão anterior para verificar se existem *outliers* dos pagamentos.\n",
        "\n",
        "**Dica** *outliers* são dados fora do intervalo $[Q1 - 1.5 IQR, Q3 + 1.5 IQR]$ "
      ]
    },
    {
      "cell_type": "code",
      "source": [
        "# Existem *outliers* dos pagamentos?\n",
        "outlier_superior = q3 + (1.5 * distancia_interquartis)\n",
        "outlier_inferior = q1 - (1.5 * distancia_interquartis)\n",
        "outliers = data[(data['charges'] <= outlier_inferior) & (data['charges'] >= outlier_superior)]\n",
        "print(f\"Referência para o outlier superior é {outlier_superior}\")\n",
        "print(f\"Verificando a ocorrência de outliers superiores com o uso da referência\\n{data.query('charges >= 34489.350562499996').head(1)}\\n\")\n",
        "print(f\"Referência para o Outlier inferior é {outlier_inferior}\")\n",
        "print(f\"Verificando a ocorrência de outliers superiores com o uso da referência\\n{data.query('charges <= -13109.1508975').head(1)}\\n\\n\")"
      ],
      "metadata": {
        "id": "E4067uxRSamQ",
        "colab": {
          "base_uri": "https://localhost:8080/"
        },
        "outputId": "1c3aa3ab-3c24-4487-e78d-0932087b4594"
      },
      "execution_count": null,
      "outputs": [
        {
          "output_type": "stream",
          "name": "stdout",
          "text": [
            "Referência para o outlier superior é 34489.350562499996\n",
            "Verificando a ocorrência de outliers superiores com o uso da referência\n",
            "    age   sex    bmi  children smoker     region     charges\n",
            "14   27  male  42.13         0    yes  southeast  39611.7577\n",
            "\n",
            "Referência para o Outlier inferior é -13109.1508975\n",
            "Verificando a ocorrência de outliers superiores com o uso da referência\n",
            "Empty DataFrame\n",
            "Columns: [age, sex, bmi, children, smoker, region, charges]\n",
            "Index: []\n",
            "\n",
            "\n"
          ]
        }
      ]
    },
    {
      "cell_type": "markdown",
      "metadata": {
        "id": "PBL5PVSoimHl"
      },
      "source": [
        "## Q7. Qual a média dos pagamentos efetuados para os 10 casos com menor idade dos segurados? "
      ]
    },
    {
      "cell_type": "code",
      "source": [
        "# Qual a média dos pagamentos efetuados para os 10 casos com menor idade dos segurados?\n",
        "top_dez_menores_pagamentos_mais_jovens = data.nsmallest(10, 'age')['charges'].mean()\n",
        "print(f\"Qual a média dos pagamentos efetuados para os 10 casos com menor idade dos segurados?\")\n",
        "print(f\"A média dos dez pagamentos efetuados pelos dez mais jovens do grupo é {top_dez_menores_pagamentos_mais_jovens}\\n\\n\")"
      ],
      "metadata": {
        "id": "o6dwzU4KSd6D",
        "colab": {
          "base_uri": "https://localhost:8080/"
        },
        "outputId": "f50fccea-349e-40cc-823f-22c9d25ae0d6"
      },
      "execution_count": null,
      "outputs": [
        {
          "output_type": "stream",
          "name": "stdout",
          "text": [
            "Qual a média dos pagamentos efetuados para os 10 casos com menor idade dos segurados?\n",
            "A média dos dez pagamentos efetuados pelos dez mais jovens do grupo é 11968.65424\n",
            "\n",
            "\n"
          ]
        }
      ]
    },
    {
      "cell_type": "markdown",
      "metadata": {
        "id": "0NCuzlXHjtWp"
      },
      "source": [
        "## Q8. Revise a questão anterior. De fato calculamos a média de *todos* os seguros de indivíduos com idade entre as 10 menores idades?\n",
        "\n",
        "**Dica** Verifique quantos indivíduos há com a menor idade"
      ]
    },
    {
      "cell_type": "code",
      "source": [
        "# De fato, empregando somente a função nsmallest() calculamos corretamente a média de *todos* os seguros de indivíduos com idade entre as 10 menores idades?\n",
        "num_individuos = data.query('age == 18')\n",
        "print(f\"De fato, empregando somente a função nsmallest() calculamos corretamente a média de *todos* os seguros de indivíduos com idade entre as 10 menores idades?\")\n",
        "print(f\"Não, nesse caso a função nsmallest() está capturando apenas 10 casos, entretanto, temos {num_individuos.count()[0]} registros de clientes com 18 anos.\")"
      ],
      "metadata": {
        "colab": {
          "base_uri": "https://localhost:8080/"
        },
        "id": "9c6VQSBVShpM",
        "outputId": "ef746f01-ba25-4816-f6ff-0681d01baceb"
      },
      "execution_count": null,
      "outputs": [
        {
          "output_type": "stream",
          "name": "stdout",
          "text": [
            "De fato, empregando somente a função nsmallest() calculamos corretamente a média de *todos* os seguros de indivíduos com idade entre as 10 menores idades?\n",
            "Não, nesse caso a função nsmallest() está capturando apenas 10 casos, entretanto, temos 69 registros de clientes com 18 anos.\n"
          ]
        }
      ]
    }
  ]
}