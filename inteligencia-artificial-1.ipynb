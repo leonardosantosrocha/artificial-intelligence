{
  "cells": [
    {
      "cell_type": "code",
      "execution_count": 49,
      "metadata": {
        "colab": {
          "base_uri": "https://localhost:8080/"
        },
        "id": "uiVHWuL7Rytj",
        "outputId": "42497981-abe2-4e0c-eace-c378b70b08b1"
      },
      "outputs": [],
      "source": [
        "import pandas as pd\n",
        "import numpy as np"
      ]
    },
    {
      "cell_type": "code",
      "execution_count": 50,
      "metadata": {},
      "outputs": [
        {
          "data": {
            "text/html": [
              "<div>\n",
              "<style scoped>\n",
              "    .dataframe tbody tr th:only-of-type {\n",
              "        vertical-align: middle;\n",
              "    }\n",
              "\n",
              "    .dataframe tbody tr th {\n",
              "        vertical-align: top;\n",
              "    }\n",
              "\n",
              "    .dataframe thead th {\n",
              "        text-align: right;\n",
              "    }\n",
              "</style>\n",
              "<table border=\"1\" class=\"dataframe\">\n",
              "  <thead>\n",
              "    <tr style=\"text-align: right;\">\n",
              "      <th></th>\n",
              "      <th>age</th>\n",
              "      <th>sex</th>\n",
              "      <th>bmi</th>\n",
              "      <th>children</th>\n",
              "      <th>smoker</th>\n",
              "      <th>region</th>\n",
              "      <th>charges</th>\n",
              "    </tr>\n",
              "  </thead>\n",
              "  <tbody>\n",
              "    <tr>\n",
              "      <th>0</th>\n",
              "      <td>19</td>\n",
              "      <td>female</td>\n",
              "      <td>27.900</td>\n",
              "      <td>0</td>\n",
              "      <td>yes</td>\n",
              "      <td>southwest</td>\n",
              "      <td>16884.92400</td>\n",
              "    </tr>\n",
              "    <tr>\n",
              "      <th>1</th>\n",
              "      <td>18</td>\n",
              "      <td>male</td>\n",
              "      <td>33.770</td>\n",
              "      <td>1</td>\n",
              "      <td>no</td>\n",
              "      <td>southeast</td>\n",
              "      <td>1725.55230</td>\n",
              "    </tr>\n",
              "    <tr>\n",
              "      <th>2</th>\n",
              "      <td>28</td>\n",
              "      <td>male</td>\n",
              "      <td>33.000</td>\n",
              "      <td>3</td>\n",
              "      <td>no</td>\n",
              "      <td>southeast</td>\n",
              "      <td>4449.46200</td>\n",
              "    </tr>\n",
              "    <tr>\n",
              "      <th>3</th>\n",
              "      <td>33</td>\n",
              "      <td>male</td>\n",
              "      <td>22.705</td>\n",
              "      <td>0</td>\n",
              "      <td>no</td>\n",
              "      <td>northwest</td>\n",
              "      <td>21984.47061</td>\n",
              "    </tr>\n",
              "    <tr>\n",
              "      <th>4</th>\n",
              "      <td>32</td>\n",
              "      <td>male</td>\n",
              "      <td>28.880</td>\n",
              "      <td>0</td>\n",
              "      <td>no</td>\n",
              "      <td>northwest</td>\n",
              "      <td>3866.85520</td>\n",
              "    </tr>\n",
              "  </tbody>\n",
              "</table>\n",
              "</div>"
            ],
            "text/plain": [
              "   age     sex     bmi  children smoker     region      charges\n",
              "0   19  female  27.900         0    yes  southwest  16884.92400\n",
              "1   18    male  33.770         1     no  southeast   1725.55230\n",
              "2   28    male  33.000         3     no  southeast   4449.46200\n",
              "3   33    male  22.705         0     no  northwest  21984.47061\n",
              "4   32    male  28.880         0     no  northwest   3866.85520"
            ]
          },
          "execution_count": 50,
          "metadata": {},
          "output_type": "execute_result"
        }
      ],
      "source": [
        "data = pd.read_csv(\"http://meusite.mackenzie.br/rogerio/data_load/insurance.csv\")\n",
        "data.head()"
      ]
    },
    {
      "cell_type": "code",
      "execution_count": 51,
      "metadata": {
        "colab": {
          "base_uri": "https://localhost:8080/"
        },
        "id": "1-NWUBce7_tq",
        "outputId": "76fc057b-934b-4faa-9f2b-ee9578c1e1d1"
      },
      "outputs": [
        {
          "name": "stdout",
          "output_type": "stream",
          "text": [
            "Qual o número de caso de seguro?\n",
            "\n",
            "O número de casos de seguro é: 1338\n"
          ]
        }
      ],
      "source": [
        "# Qual o número de caso de seguro? \n",
        "print(f\"Qual o número de caso de seguro?\\n\")\n",
        "\n",
        "casos_de_seguros = data.shape[0]\n",
        "\n",
        "print(f\"O número de casos de seguro é: {casos_de_seguros}\")\n"
      ]
    },
    {
      "cell_type": "code",
      "execution_count": 52,
      "metadata": {
        "colab": {
          "base_uri": "https://localhost:8080/"
        },
        "id": "4if7Mq-OR8YH",
        "outputId": "ccb6d249-3462-4048-8818-ce04a6ea8146"
      },
      "outputs": [
        {
          "name": "stdout",
          "output_type": "stream",
          "text": [
            "Qual a quantidade de casos na região northeast?\n",
            "\n",
            "A quantidade de casos por região é igual a 324\n"
          ]
        }
      ],
      "source": [
        "# Qual a quantidade de casos na região northeast?\n",
        "print(f\"Qual a quantidade de casos na região northeast?\\n\")\n",
        "\n",
        "qtd_casos_regiao = data.query(\"region == 'northeast'\")['region'].count()\n",
        "\n",
        "print(f\"A quantidade de casos por região é igual a {qtd_casos_regiao}\")"
      ]
    },
    {
      "cell_type": "code",
      "execution_count": 53,
      "metadata": {
        "colab": {
          "base_uri": "https://localhost:8080/"
        },
        "id": "c6vP6eyvSLbK",
        "outputId": "2c2729d0-cdaa-445c-ca45-bcf5a129ece4"
      },
      "outputs": [
        {
          "name": "stdout",
          "output_type": "stream",
          "text": [
            "Qual a média dos pagamentos (charges) efetuados?\n",
            "\n",
            "A média dos pagamentos efetuados é 13270.42\n"
          ]
        }
      ],
      "source": [
        "# Qual a média dos pagamentos (charges) efetuados?\n",
        "print(f\"Qual a média dos pagamentos (charges) efetuados?\\n\")\n",
        "\n",
        "media_pgto_efetuado = data['charges'].mean()\n",
        "\n",
        "print(f\"A média dos pagamentos efetuados é {round(media_pgto_efetuado,2)}\")"
      ]
    },
    {
      "cell_type": "code",
      "execution_count": 54,
      "metadata": {
        "colab": {
          "base_uri": "https://localhost:8080/"
        },
        "id": "Y7_aN05XSOxJ",
        "outputId": "6eabfe1d-aae5-4341-b1ba-631cdbd5a267"
      },
      "outputs": [
        {
          "name": "stdout",
          "output_type": "stream",
          "text": [
            "Qual a média dos pagamentos (charges) dos 10 maiores pagamentos efetuados?\n",
            "\n",
            "A média dos dez maiores pagamentos efetuados é 55130.96\n"
          ]
        }
      ],
      "source": [
        "# Qual a média dos pagamentos (charges) dos 10 maiores pagamentos efetuados?\n",
        "print(f\"Qual a média dos pagamentos (charges) dos 10 maiores pagamentos efetuados?\\n\")\n",
        "\n",
        "top_dez_media_pgto_efetuado = data.nlargest(10, 'charges')['charges'].mean()\n",
        "\n",
        "print(f\"A média dos dez maiores pagamentos efetuados é {round(top_dez_media_pgto_efetuado,2)}\")"
      ]
    },
    {
      "cell_type": "code",
      "execution_count": 61,
      "metadata": {
        "colab": {
          "base_uri": "https://localhost:8080/"
        },
        "id": "dvNGFd15SWtQ",
        "outputId": "5f8cf728-0b8d-47fa-d342-caf001dddf3c"
      },
      "outputs": [
        {
          "name": "stdout",
          "output_type": "stream",
          "text": [
            "Calcule a distância interquartis dos pagamentos:\n",
            "\n",
            "A distância interquartis (AIQ = Q3 - Q1) é 11899.63\n"
          ]
        }
      ],
      "source": [
        "# Calcule a distância interquartis dos pagamentos:\n",
        "print(f\"Calcule a distância interquartis dos pagamentos:\\n\")\n",
        "\n",
        "q3 = np.quantile(data['charges'], 0.75)\n",
        "q1 = np.quantile(data['charges'], 0.25)\n",
        "distancia_interquartis = q3 - q1\n",
        "\n",
        "print(f\"A distância interquartis (AIQ = Q3 - Q1) é {round(distancia_interquartis,2)}\")"
      ]
    },
    {
      "cell_type": "code",
      "execution_count": 72,
      "metadata": {
        "colab": {
          "base_uri": "https://localhost:8080/"
        },
        "id": "E4067uxRSamQ",
        "outputId": "1c3aa3ab-3c24-4487-e78d-0932087b4594"
      },
      "outputs": [
        {
          "name": "stdout",
          "output_type": "stream",
          "text": [
            "Existem *outliers* dos pagamentos?\n",
            "\n",
            "Referência para o outlier superior é 34489.350562499996\n",
            "Verificando a ocorrência de outliers superiores com o uso da referência: True\n",
            "\n",
            "Referência para o Outlier inferior é -13109.1508975\n",
            "Verificando a ocorrência de outliers superiores com o uso da referência: False\n"
          ]
        }
      ],
      "source": [
        "# Existem *outliers* dos pagamentos?\n",
        "print(\"Existem *outliers* dos pagamentos?\\n\")\n",
        "\n",
        "outlier_superior = q3 + (1.5 * distancia_interquartis)\n",
        "outlier_inferior = q1 - (1.5 * distancia_interquartis)\n",
        "outliers = data[(data['charges'] <= outlier_inferior) & (data['charges'] >= outlier_superior)]\n",
        "\n",
        "print(f\"Referência para o outlier superior é {outlier_superior}\")\n",
        "print(f\"Verificando a ocorrência de outliers superiores com o uso da referência: {bool(len(data.query('charges >= 34489.350562499996').head(1)))}\\n\")\n",
        "print(f\"Referência para o Outlier inferior é {outlier_inferior}\")\n",
        "print(f\"Verificando a ocorrência de outliers superiores com o uso da referência: {bool(len(data.query('charges <= -13109.1508975').head(1)))}\")"
      ]
    },
    {
      "cell_type": "code",
      "execution_count": 74,
      "metadata": {
        "colab": {
          "base_uri": "https://localhost:8080/"
        },
        "id": "o6dwzU4KSd6D",
        "outputId": "f50fccea-349e-40cc-823f-22c9d25ae0d6"
      },
      "outputs": [
        {
          "name": "stdout",
          "output_type": "stream",
          "text": [
            "Qual a média dos pagamentos efetuados para os 10 casos com menor idade dos segurados?\n",
            "\n",
            "A média dos dez pagamentos efetuados pelos dez mais jovens do grupo é 11968.65\n"
          ]
        }
      ],
      "source": [
        "# Qual a média dos pagamentos efetuados para os 10 casos com menor idade dos segurados?\n",
        "print(f\"Qual a média dos pagamentos efetuados para os 10 casos com menor idade dos segurados?\\n\")\n",
        "\n",
        "top_dez_menores_pagamentos_mais_jovens = data.nsmallest(10, 'age')['charges'].mean()\n",
        "\n",
        "print(f\"A média dos dez pagamentos efetuados pelos dez mais jovens do grupo é {round(top_dez_menores_pagamentos_mais_jovens,2)}\")"
      ]
    },
    {
      "cell_type": "code",
      "execution_count": 75,
      "metadata": {
        "colab": {
          "base_uri": "https://localhost:8080/"
        },
        "id": "9c6VQSBVShpM",
        "outputId": "ef746f01-ba25-4816-f6ff-0681d01baceb"
      },
      "outputs": [
        {
          "name": "stdout",
          "output_type": "stream",
          "text": [
            "De fato, empregando somente a função nsmallest() calculamos corretamente a média de *todos* os seguros de indivíduos com idade entre as 10 menores idades?\n",
            "\n",
            "Não, nesse caso a função nsmallest() está capturando apenas 10 casos, entretanto, temos 69 registros de clientes com 18 anos.\n"
          ]
        }
      ],
      "source": [
        "# De fato, empregando somente a função nsmallest() calculamos corretamente a média de *todos* os seguros de indivíduos com idade entre as 10 menores idades?\n",
        "print(f\"De fato, empregando somente a função nsmallest() calculamos corretamente a média de *todos* os seguros de indivíduos com idade entre as 10 menores idades?\\n\")\n",
        "\n",
        "num_individuos = data.query('age == 18')\n",
        "\n",
        "print(f\"Não, nesse caso a função nsmallest() está capturando apenas 10 casos, entretanto, temos {num_individuos.count()[0]} registros de clientes com 18 anos.\")"
      ]
    }
  ],
  "metadata": {
    "colab": {
      "provenance": []
    },
    "kernelspec": {
      "display_name": "Python 3",
      "language": "python",
      "name": "python3"
    },
    "language_info": {
      "codemirror_mode": {
        "name": "ipython",
        "version": 3
      },
      "file_extension": ".py",
      "mimetype": "text/x-python",
      "name": "python",
      "nbconvert_exporter": "python",
      "pygments_lexer": "ipython3",
      "version": "3.10.6"
    }
  },
  "nbformat": 4,
  "nbformat_minor": 0
}
